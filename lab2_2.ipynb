{
  "nbformat": 4,
  "nbformat_minor": 0,
  "metadata": {
    "colab": {
      "provenance": [],
      "authorship_tag": "ABX9TyOvpnDcDbEEEJazptgzsFEU",
      "include_colab_link": true
    },
    "kernelspec": {
      "name": "python3",
      "display_name": "Python 3"
    },
    "language_info": {
      "name": "python"
    }
  },
  "cells": [
    {
      "cell_type": "markdown",
      "metadata": {
        "id": "view-in-github",
        "colab_type": "text"
      },
      "source": [
        "<a href=\"https://colab.research.google.com/github/karthik9641/aiac/blob/main/lab2_2.ipynb\" target=\"_parent\"><img src=\"https://colab.research.google.com/assets/colab-badge.svg\" alt=\"Open In Colab\"/></a>"
      ]
    },
    {
      "cell_type": "code",
      "execution_count": null,
      "metadata": {
        "colab": {
          "base_uri": "https://localhost:8080/"
        },
        "id": "3G643mlEsP8a",
        "outputId": "cb937151-735b-4175-c129-78ee19c0ccf1"
      },
      "outputs": [
        {
          "output_type": "stream",
          "name": "stdout",
          "text": [
            "17 is a prime number.\n",
            "12 is not a prime number.\n"
          ]
        }
      ],
      "source": [
        "def is_prime(n):\n",
        "  \"\"\"Checks if a given number is prime.\"\"\"\n",
        "  if n <= 1:\n",
        "    return False\n",
        "  for i in range(2, int(n**0.5) + 1):\n",
        "    if n % i == 0:\n",
        "      return False\n",
        "  return True\n",
        "\n",
        "# Example usage:\n",
        "num = 17\n",
        "if is_prime(num):\n",
        "  print(f\"{num} is a prime number.\")\n",
        "else:\n",
        "  print(f\"{num} is not a prime number.\")\n",
        "\n",
        "num = 12\n",
        "if is_prime(num):\n",
        "  print(f\"{num} is a prime number.\")\n",
        "else:\n",
        "  print(f\"{num} is not a prime number.\")"
      ]
    },
    {
      "cell_type": "markdown",
      "source": [
        "def is_prime(n):: This line defines the function is_prime that takes one argument, n, which is the number to be checked.\n",
        "\"\"\"Checks if a given number is prime.\"\"\": This is a docstring that explains what the function does.\n",
        "if n <= 1:: This checks if the number n is less than or equal to 1. Prime numbers are greater than 1, so if n is 1 or less, the function immediately returns False.\n",
        "`for i in range(2, int(n0.5) + 1):**: This starts a loop that iterates through numbers starting from 2 up to the square root ofn`. We only need to check for divisors up to the square root because if a number has a divisor greater than its square root, it must also have a divisor smaller than its square root.\n",
        "if n % i == 0:: Inside the loop, this checks if n is divisible by the current number i. If it is, it means n has a divisor other than 1 and itself, so it's not prime, and the function returns False.\n",
        "return True: If the loop finishes without finding any divisors, it means the number n is only divisible by 1 and itself, so it's prime, and the function returns True.\n",
        "The example usage section demonstrates how to use the is_prime function by checking if 17 and 12 are prime numbers and printing the results.\n",
        "\n"
      ],
      "metadata": {
        "id": "FcllqDU786p8"
      }
    },
    {
      "cell_type": "markdown",
      "source": [
        "task@:write a python program to check given number is prime or not"
      ],
      "metadata": {
        "id": "kIOMKJrEsa8l"
      }
    },
    {
      "cell_type": "markdown",
      "source": [
        "task1:Use Gemini in Colab to write a function that filters out all negative numbers from a\n",
        "given list"
      ],
      "metadata": {
        "id": "xJGfA8su9HRo"
      }
    },
    {
      "cell_type": "code",
      "source": [],
      "metadata": {
        "id": "01pOMnhn9XVz"
      },
      "execution_count": null,
      "outputs": []
    },
    {
      "cell_type": "code",
      "source": [
        "def filter_negative_numbers(input_list):\n",
        "  \"\"\"Filters out negative numbers from a given list.\"\"\"\n",
        "  return [num for num in input_list if num >= 0]\n",
        "\n",
        "# Example usage:\n",
        "my_list = [1, -2, 3, -4, 5, -6]\n",
        "filtered_list = filter_negative_numbers(my_list)\n",
        "print(f\"Original list: {my_list}\")\n",
        "print(f\"Filtered list: {filtered_list}\")"
      ],
      "metadata": {
        "id": "ynW8vTG_9byF"
      },
      "execution_count": null,
      "outputs": []
    },
    {
      "cell_type": "markdown",
      "source": [
        "def filter_negative_numbers(input_list):: This line defines the function filter_negative_numbers that accepts one argument, input_list, which is the list we want to process.\n",
        "\"\"\"Filters out negative numbers from a given list.\"\"\": This is a docstring that explains what the function does.\n",
        "return [num for num in input_list if num >= 0]: This is a list comprehension. It iterates through each element (num) in the input_list. For each num, it checks if it is greater than or equal to 0 (num >= 0). If the condition is true, the number is included in the new list that is being created and returned by the function.\n",
        "The example usage section demonstrates how to use the filter_negative_numbers function with a sample list my_list. It then prints both the original and the filtered lists.\n",
        "\n"
      ],
      "metadata": {
        "id": "WWmHSHPF-EIV"
      }
    },
    {
      "cell_type": "markdown",
      "source": [
        "task2:Ask Gemini to generate code that reads a text file and counts the frequency of each\n",
        "word. Then ask it to explain the code"
      ],
      "metadata": {
        "id": "HxYpnmi3-H1M"
      }
    },
    {
      "cell_type": "code",
      "source": [
        "from collections import Counter\n",
        "import re\n",
        "\n",
        "def count_word_frequency(filename):\n",
        "  \"\"\"Reads a text file and counts the frequency of each word.\"\"\"\n",
        "  word_counts = Counter()\n",
        "  try:\n",
        "    with open(filename, 'r') as f:\n",
        "      for line in f:\n",
        "        # Remove punctuation and convert to lowercase\n",
        "        words = re.findall(r'\\b\\w+\\b', line.lower())\n",
        "        word_counts.update(words)\n",
        "  except FileNotFoundError:\n",
        "    print(f\"Error: File '{filename}' not found.\")\n",
        "  return word_counts\n",
        "\n",
        "# Create a dummy file for demonstration\n",
        "with open(\"sample.txt\", \"w\") as f:\n",
        "    f.write(\"This is a sample text file.\\n\")\n",
        "    f.write(\"This file is for demonstrating word frequency counting.\\n\")\n",
        "    f.write(\"Sample text, sample file.\")\n",
        "\n",
        "\n",
        "# Example usage:\n",
        "filename = 'sample.txt'\n",
        "word_frequencies = count_word_frequency(filename)\n",
        "\n",
        "# Print word frequencies\n",
        "for word, count in word_frequencies.most_common():\n",
        "  print(f\"{word}: {count}\")"
      ],
      "metadata": {
        "id": "4shPDGNe-iGx"
      },
      "execution_count": null,
      "outputs": []
    },
    {
      "cell_type": "markdown",
      "source": [
        "from collections import Counter: This line imports the Counter class from the collections module. Counter is a specialized dictionary subclass for counting hashable objects.\n",
        "import re: This line imports the re module, which provides support for regular expressions.\n",
        "def count_word_frequency(filename):: This defines a function count_word_frequency that takes the filename as input.\n",
        "word_counts = Counter(): Initializes an empty Counter object to store word counts.\n",
        "try...except FileNotFoundError: This block attempts to open and read the file. If the file is not found, it prints an error message.\n",
        "with open(filename, 'r') as f:: Opens the specified file in read mode ('r'). The with statement ensures the file is automatically closed even if errors occur.\n",
        "for line in f:: Iterates through each line in the file.\n",
        "words = re.findall(r'\\b\\w+\\b', line.lower()): This is the core of the word extraction.\n",
        "line.lower(): Converts the line to lowercase to ensure case-insensitive counting.\n",
        "re.findall(r'\\b\\w+\\b', ...): Uses a regular expression to find all words in the lowercase line.\n",
        "\\b: Matches a word boundary (ensures whole words are matched).\n",
        "\\w+: Matches one or more word characters (letters, numbers, and underscore).\n",
        "word_counts.update(words): Updates the word_counts Counter with the words found in the current line.\n",
        "return word_counts: The function returns the Counter object containing word frequencies.\n",
        "with open(\"sample.txt\", \"w\") as f: ...: This block creates a dummy file named sample.txt with some sample text for demonstration purposes.\n",
        "filename = 'sample.txt': Sets the filename variable to the name of the dummy file.\n",
        "word_frequencies = count_word_frequency(filename): Calls the count_word_frequency function to get the word frequencies from the sample.txt file.\n",
        "for word, count in word_frequencies.most_common():: Iterates through the word frequencies, sorted by count in descending order (most common first).\n",
        "print(f\"{word}: {count}\"): Prints each word and its corresponding count.\n"
      ],
      "metadata": {
        "id": "XDGEGFV7--oC"
      }
    },
    {
      "cell_type": "markdown",
      "source": [
        "task3:Use Cursor AI to generate a Python class called Book with attributes title, author, and\n",
        "a method summary() that prints the details."
      ],
      "metadata": {
        "id": "f5CCrOzI_cM8"
      }
    },
    {
      "cell_type": "code",
      "source": [
        "Use Cursor AI to generate a Python class called Book with attributes title, author, and\n",
        "a method summary() that prints the details."
      ],
      "metadata": {
        "id": "l6aAJpM5_pU5"
      },
      "execution_count": null,
      "outputs": []
    },
    {
      "cell_type": "code",
      "metadata": {
        "id": "l6aAJp5_pU5"
      },
      "source": [
        "class Book:\n",
        "  \"\"\"Represents a book with a title and author.\"\"\"\n",
        "  def __init__(self, title, author):\n",
        "    self.title = title\n",
        "    self.author = author\n",
        "\n",
        "  def summary(self):\n",
        "    \"\"\"Prints the details of the book.\"\"\"\n",
        "    print(f\"Title: {self.title}\")\n",
        "    print(f\"Author: {self.author}\")\n",
        "\n",
        "# Example usage:\n",
        "my_book = Book(\"The Hitchhiker's Guide to the Galaxy\", \"Douglas Adams\")\n",
        "my_book.summary()\n",
        "class Book:: This line starts the definition of a new class named Book.\n",
        "\"\"\"Represents a book with a title and author.\"\"\": This is a docstring explaining the purpose of the Book class.\n",
        "def __init__(self, title, author):: This is the constructor method of the class. It's called when you create a new Book object.\n",
        "self: Refers to the instance of the class being created.\n",
        "title and author: These are parameters that you pass when creating a Book object.\n",
        "self.title = title and self.author = author: These lines assign the values passed for title and author to the title and author attributes of the Book object.\n",
        "def summary(self):: This defines a method named summary within the Book class.\n",
        "self: Refers to the instance of the class on which the method is called.\n",
        "\"\"\"Prints the details of the book.\"\"\"**: This is a docstring explaining what the summary method does.\n",
        "print(f\"Title: {self.title}\") and print(f\"Author: {self.author}\"): These lines print the values of the title and author attributes of the Book object.\n",
        "# Example usage:: This is a comment indicating the start of the example code.\n",
        "my_book = Book(\"The Hitchhiker's Guide to the Galaxy\", \"Douglas Adams\"): This line creates a new instance of the Book class. It calls the __init__ method and passes the strings \"The Hitchhiker's Guide to the Galaxy\" and \"Douglas Adams\" as the title and author. The created object is assigned to the variable my_book.\n",
        "my_book.summary(): This line calls the summary method on the my_book object. This will print the title and author of the book.\n"
      ],
      "execution_count": null,
      "outputs": []
    },
    {
      "cell_type": "markdown",
      "source": [
        "Ask Gemini to write a program that checks whether a number is an Armstrong\n",
        "number, and then modify it using Cursor AI to improve performance or structur"
      ],
      "metadata": {
        "id": "8McJ_ai5__gy"
      }
    },
    {
      "cell_type": "code",
      "source": [
        "def is_armstrong_number(num):\n",
        "  \"\"\"Checks if a number is an Armstrong number.\"\"\"\n",
        "  # Convert the number to a string to get the number of digits\n",
        "  num_str = str(num)\n",
        "  num_digits = len(num_str)\n",
        "\n",
        "  # Calculate the sum of digits raised to the power of the number of digits\n",
        "  armstrong_sum = 0\n",
        "  for digit in num_str:\n",
        "    armstrong_sum += int(digit) ** num_digits\n",
        "\n",
        "  # Check if the sum equals the original number\n",
        "  return armstrong_sum == num\n",
        "\n",
        "# Example usage:\n",
        "num1 = 153\n",
        "if is_armstrong_number(num1):\n",
        "  print(f\"{num1} is an Armstrong number.\")\n",
        "else:\n",
        "  print(f\"{num1} is not an Armstrong number.\")\n",
        "\n",
        "num2 = 123\n",
        "if is_armstrong_number(num2):\n",
        "  print(f\"{num2} is an Armstrong number.\")\n",
        "else:\n",
        "  print(f\"{num2} is not an Armstrong number.\")\n",
        "\n"
      ],
      "metadata": {
        "id": "c6F4CwXkAGTl"
      },
      "execution_count": null,
      "outputs": []
    },
    {
      "cell_type": "markdown",
      "source": [
        "def is_armstrong_number(num):: Defines a function named is_armstrong_number that takes one argument, num.\n",
        "\"\"\"Checks if a number is an Armstrong number.\"\"\": This is a docstring explaining the function's purpose.\n",
        "num_str = str(num): Converts the input number num into a string so that we can easily access individual digits.\n",
        "num_digits = len(num_str): Calculates the number of digits in the number by getting the length of the string.\n",
        "armstrong_sum = 0: Initializes a variable armstrong_sum to store the sum of the digits raised to the power of the number of digits.\n",
        "for digit in num_str:: This loop iterates through each character (digit) in the num_str.\n",
        "armstrong_sum += int(digit) ** num_digits: Inside the loop, each digit is converted back to an integer (int(digit)), raised to the power of the total number of digits (** num_digits), and then added to the armstrong_sum.\n",
        "return armstrong_sum == num: After the loop finishes, the function returns True if the calculated armstrong_sum is equal to the original number num, indicating it's an Armstrong number. Otherwise, it returns False.\n",
        "The example usage section demonstrates how to call the is_armstrong_number function with the numbers 153 and 123 and prints whether they are Armstrong numbers"
      ],
      "metadata": {
        "id": "kcs97h-lB4T7"
      }
    },
    {
      "cell_type": "markdown",
      "source": [
        "task5:Use both Gemini and Cursor AI to generate code for sorting a list of dictionaries by a\n",
        "specific key"
      ],
      "metadata": {
        "id": "zmHRr9P2Ajle"
      }
    },
    {
      "cell_type": "code",
      "source": [
        "def sort_list_of_dictionaries(list_of_dicts, key_to_sort_by):\n",
        "  \"\"\"Sorts a list of dictionaries by a specific key.\"\"\"\n",
        "  return sorted(list_of_dicts, key=lambda x: x[key_to_sort_by])\n",
        "\n",
        "# Example usage:\n",
        "data = [\n",
        "    {\"name\": \"Alice\", \"age\": 30},\n",
        "    {\"name\": \"Bob\", \"age\": 25},\n",
        "    {\"name\": \"Charlie\", \"age\": 35}\n",
        "]\n",
        "\n",
        "sorted_data = sort_list_of_dictionaries(data, \"age\")\n",
        "print(\"Sorted by age:\")\n",
        "print(sorted_data)\n",
        "\n",
        "sorted_data_name = sort_list_of_dictionaries(data, \"name\")\n",
        "print(\"\\nSorted by name:\")\n",
        "print(sorted_data_name)\n"
      ],
      "metadata": {
        "id": "xPLkeGPCAjCc"
      },
      "execution_count": null,
      "outputs": []
    },
    {
      "cell_type": "markdown",
      "source": [
        "def sort_list_of_dictionaries(list_of_dicts, key_to_sort_by):: This line defines the function sort_list_of_dictionaries that takes two arguments:\n",
        "list_of_dicts: The list of dictionaries that you want to sort.\n",
        "key_to_sort_by: A string representing the key within each dictionary that you want to use for sorting.\n",
        "\"\"\"Sorts a list of dictionaries by a specific key.\"\"\": This is a docstring explaining what the function does.\n",
        "return sorted(list_of_dicts, key=lambda x: x[key_to_sort_by]): This is the core of the sorting logic.\n",
        "sorted(): This is a built-in Python function that returns a new sorted list from the items in an iterable.\n",
        "list_of_dicts: The list of dictionaries to be sorted.\n",
        "key=lambda x: x[key_to_sort_by]: This is where the magic happens.\n",
        "key: This argument specifies a function of one argument that is used to extract a comparison key from each list element.\n",
        "lambda x: x[key_to_sort_by]: This is a small, anonymous function (a lambda function). For each dictionary x in the list_of_dicts, this function returns the value associated with the key_to_sort_by. The sorted() function then uses these returned values to determine the sorting order.\n",
        "# Example usage:: This is a comment indicating the start of the example code.\n",
        "data = [...]: This creates a sample list of dictionaries.\n",
        "sorted_data = sort_list_of_dictionaries(data, \"age\"): This calls the sort_list_of_dictionaries function to sort the data list based on the \"age\" key. The result is stored in sorted_data.\n",
        "print(\"Sorted by age:\") and print(sorted_data): These lines print a label and the list sorted by age.\n",
        "sorted_data_name = sort_list_of_dictionaries(data, \"name\"): This calls the function again to sort the data list based on the \"name\" key. The result is stored in sorted_data_name.\n",
        "print(\"\\nSorted by name:\") and print(sorted_data_name): These lines print a label and the list sorted by name."
      ],
      "metadata": {
        "id": "NbhztSIGBm11"
      }
    },
    {
      "cell_type": "code",
      "source": [],
      "metadata": {
        "id": "Q01moLnQBn8-"
      },
      "execution_count": null,
      "outputs": []
    }
  ]
}